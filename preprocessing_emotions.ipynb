{
 "cells": [
  {
   "cell_type": "markdown",
   "metadata": {},
   "source": [
    "# Preprocessing of All_Annotations file\n"
   ]
  },
  {
   "cell_type": "code",
   "execution_count": 36,
   "metadata": {},
   "outputs": [],
   "source": [
    "import numpy as np\n",
    "import pandas as pd"
   ]
  },
  {
   "cell_type": "markdown",
   "metadata": {},
   "source": [
    "### Load csv file 'All_Annotations.csv', only keep discrete emotions (13 emotions) and separate the movies "
   ]
  },
  {
   "cell_type": "code",
   "execution_count": 37,
   "metadata": {},
   "outputs": [],
   "source": [
    "df = pd.read_csv('All_Annotations.csv') #download csv file\n",
    "df = df.drop(df.columns[0], axis=1)\n",
    "\n",
    "# only keeps discrete emotions \n",
    "d_emot= df[['Anger', 'Guilt', 'WarmHeartedness', 'Disgust', 'Happiness', 'Fear',\n",
    "            'Contempt', 'Anxiety', 'Satisfaction', 'Shame', 'Surprise', 'Love' ,'Sad']]\n",
    "\n",
    "#separate the different movies\n",
    "durs = [496, 808, 490, 405, 599, 667, 1008, 722, 805, 1028, 588, 784, 402, 798]\n",
    "AfterTheRain = d_emot.iloc[0:durs[0]+1,:]\n",
    "BetweenViewings = d_emot.iloc[durs[0]+1: sum(durs[0:2])+1,:]\n",
    "BigBuckBunny = d_emot.iloc[sum(durs[0:2])+1: sum(durs[0:3])+1,:]\n",
    "Chatter = d_emot.iloc[sum(durs[0:3]) + 1: sum(durs[0:4])+1,:]\n",
    "FirstBite = d_emot.iloc[sum(durs[0:4])+ 1: sum(durs[0:5]) +1,:]\n",
    "LessonLearned = d_emot.iloc[sum(durs[0:5]) +1: sum(durs[0:6])+1,:]\n",
    "Payload = d_emot.iloc[sum(durs[0:6]) +1: sum(durs[0:7])+1,:]\n",
    "Sintel = d_emot.iloc[sum(durs[0:7]) +1: sum(durs[0:8])+1,:]\n",
    "Spaceman = d_emot.iloc[sum(durs[0:8]) +1: sum(durs[0:9])+1,:]\n",
    "Superhero = d_emot.iloc[sum(durs[0:9]) +1: sum(durs[0:10])+1,:]\n",
    "TearsOfSteel = d_emot.iloc[sum(durs[0:10]) +1: sum(durs[0:11])+1,:]\n",
    "TheSecretNumber = d_emot.iloc[sum(durs[0:11]) +1: sum(durs[0:12])+1,:]\n",
    "ToClaireFromSonny = d_emot.iloc[sum(durs[0:12]) +1: sum(durs[0:13])+1,:]\n",
    "YouAgain = d_emot.iloc[sum(durs[0:13]) +1: sum(durs[0:])+1,:]"
   ]
  },
  {
   "cell_type": "markdown",
   "metadata": {},
   "source": [
    "### List with all the movies (14 movies) :"
   ]
  },
  {
   "cell_type": "code",
   "execution_count": 38,
   "metadata": {},
   "outputs": [],
   "source": [
    "movie_name = [AfterTheRain , BetweenViewings, BigBuckBunny, Chatter, FirstBite,LessonLearned,\n",
    "              Payload, Sintel, Spaceman , Superhero , TearsOfSteel,TheSecretNumber,\n",
    "              ToClaireFromSonny, YouAgain]"
   ]
  },
  {
   "cell_type": "code",
   "execution_count": 39,
   "metadata": {},
   "outputs": [],
   "source": [
    "#list of string name for naming the output files\n",
    "Names = [\"AfterTheRain\" , \"BetweenViewings\", \"BigBuckBunny\", \"Chatter\", \"FirstBite\",\"LessonLearned\",\n",
    "              \"Payload\", \"Sintel\", \"Spaceman\" , \"Superhero\" , \"TearsOfSteel\",\"TheSecretNumber\",\n",
    "              \"ToClaireFromSonny\", \"YouAgain\"]\n"
   ]
  },
  {
   "cell_type": "markdown",
   "metadata": {},
   "source": [
    "### Average on 13 rows and keep the predominent emotion"
   ]
  },
  {
   "cell_type": "code",
   "execution_count": 41,
   "metadata": {},
   "outputs": [],
   "source": [
    "index=-1\n",
    "for name in movie_name :  #loop on every movie\n",
    "    index +=1\n",
    "    N = name.shape[0] # number of remaining samples\n",
    "    D = name.shape[1] # number of discrete emotions\n",
    "    \n",
    "    new_N = int(N/13)\n",
    "    em_averaged = np.zeros([new_N,D])\n",
    "    emotions = np.zeros([new_N])\n",
    "\n",
    "    for i in range(new_N): # take the mean of 13 rows and keep the emotion with the highest value \n",
    "        means = np.mean(name[i:i+13],axis=0)\n",
    "        em_averaged[i,:] = means\n",
    "        emotions[i]=np.argmax(means)\n",
    "    \n",
    "    #Saving the preprocessed datas in CSV files with the corresponding movie name\n",
    "    \n",
    "    Name = Names[index]\n",
    "    output_path = \"results/Emotions_\"+ Name +\".csv\"\n",
    "    pd.DataFrame(emotions).to_csv(output_path,header=None, index=None)\n",
    "    \n"
   ]
  },
  {
   "cell_type": "code",
   "execution_count": null,
   "metadata": {},
   "outputs": [],
   "source": []
  }
 ],
 "metadata": {
  "kernelspec": {
   "display_name": "Python 3",
   "language": "python",
   "name": "python3"
  },
  "language_info": {
   "codemirror_mode": {
    "name": "ipython",
    "version": 3
   },
   "file_extension": ".py",
   "mimetype": "text/x-python",
   "name": "python",
   "nbconvert_exporter": "python",
   "pygments_lexer": "ipython3",
   "version": "3.8.5"
  }
 },
 "nbformat": 4,
 "nbformat_minor": 4
}
