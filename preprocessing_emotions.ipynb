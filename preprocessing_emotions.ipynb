{
 "cells": [
  {
   "cell_type": "markdown",
   "metadata": {},
   "source": [
    "# Preprocessing of All_Annotations file\n"
   ]
  },
  {
   "cell_type": "code",
   "execution_count": 1,
   "metadata": {},
   "outputs": [],
   "source": [
    "import numpy as np\n",
    "import pandas as pd"
   ]
  },
  {
   "cell_type": "markdown",
   "metadata": {},
   "source": [
    "### Load csv file 'All_Annotations.csv', only keep discrete emotions (13 emotions) and separate the movies "
   ]
  },
  {
   "cell_type": "code",
   "execution_count": 2,
   "metadata": {},
   "outputs": [],
   "source": [
    "df = pd.read_csv('All_Annotations.csv') #download csv file\n",
    "df = df.drop(df.columns[0], axis=1)\n",
    "\n",
    "# only keeps discrete emotions \n",
    "#numeroted from 0 to 12\n",
    "d_emot= df[['Anger','Sad', 'Guilt','Shame','Disgust','Anxiety','Fear','Surprise','Contempt','Satisfaction',\n",
    "            'WarmHeartedness','Happiness', 'Love' ]]\n",
    "\n",
    "#separate the different movies\n",
    "durs = [496, 808, 490, 405, 599, 667, 1008, 722, 805, 1028, 588, 784, 402, 798]\n",
    "AfterTheRain = d_emot.iloc[0:durs[0]+1,:]\n",
    "BetweenViewings = d_emot.iloc[durs[0]+1: sum(durs[0:2])+1,:]\n",
    "BigBuckBunny = d_emot.iloc[sum(durs[0:2])+1: sum(durs[0:3])+1,:]\n",
    "Chatter = d_emot.iloc[sum(durs[0:3]) + 1: sum(durs[0:4])+1,:]\n",
    "FirstBite = d_emot.iloc[sum(durs[0:4])+ 1: sum(durs[0:5]) +1,:]\n",
    "LessonLearned = d_emot.iloc[sum(durs[0:5]) +1: sum(durs[0:6])+1,:]\n",
    "Payload = d_emot.iloc[sum(durs[0:6]) +1: sum(durs[0:7])+1,:]\n",
    "Sintel = d_emot.iloc[sum(durs[0:7]) +1: sum(durs[0:8])+1,:]\n",
    "Spaceman = d_emot.iloc[sum(durs[0:8]) +1: sum(durs[0:9])+1,:]\n",
    "Superhero = d_emot.iloc[sum(durs[0:9]) +1: sum(durs[0:10])+1,:]\n",
    "TearsOfSteel = d_emot.iloc[sum(durs[0:10]) +1: sum(durs[0:11])+1,:]\n",
    "TheSecretNumber = d_emot.iloc[sum(durs[0:11]) +1: sum(durs[0:12])+1,:]\n",
    "ToClaireFromSonny = d_emot.iloc[sum(durs[0:12]) +1: sum(durs[0:13])+1,:]\n",
    "YouAgain = d_emot.iloc[sum(durs[0:13]) +1: sum(durs[0:])+1,:]"
   ]
  },
  {
   "cell_type": "markdown",
   "metadata": {},
   "source": [
    "### List with all the movies (14 movies) :"
   ]
  },
  {
   "cell_type": "code",
   "execution_count": 3,
   "metadata": {},
   "outputs": [],
   "source": [
    "movie_name = [AfterTheRain , BetweenViewings, BigBuckBunny, Chatter, FirstBite,LessonLearned,\n",
    "              Payload, Sintel, Spaceman , Superhero , TearsOfSteel,TheSecretNumber,\n",
    "              ToClaireFromSonny, YouAgain]"
   ]
  },
  {
   "cell_type": "code",
   "execution_count": 4,
   "metadata": {},
   "outputs": [],
   "source": [
    "#list of string name for naming the output files\n",
    "Names = [\"AfterTheRain\" , \"BetweenViewings\", \"BigBuckBunny\", \"Chatter\", \"FirstBite\",\"LessonLearned\",\n",
    "              \"Payload\", \"Sintel\", \"Spaceman\" , \"Superhero\" , \"TearsOfSteel\",\"TheSecretNumber\",\n",
    "              \"ToClaireFromSonny\", \"YouAgain\"]\n"
   ]
  },
  {
   "cell_type": "markdown",
   "metadata": {},
   "source": [
    "### Average on 13 rows and keep the predominent emotion IF is above a certain threshold --> otherwise will be label 13 : no particular emotion "
   ]
  },
  {
   "cell_type": "code",
   "execution_count": 5,
   "metadata": {},
   "outputs": [],
   "source": [
    "# Defining the value of the threshold :\n",
    "\n",
    "threshold = 0.5"
   ]
  },
  {
   "cell_type": "code",
   "execution_count": 6,
   "metadata": {},
   "outputs": [
    {
     "name": "stdout",
     "output_type": "stream",
     "text": [
      "[9. 9. 9. 9. 9. 9. 9. 9. 9. 9. 9. 9. 9. 9. 9. 9. 9. 9. 9. 9. 9. 3. 3. 7.\n",
      " 7. 7. 7. 7. 3. 3. 3. 3. 3. 3. 3. 3. 3. 3.]\n",
      "[ 4.  4.  4.  4.  4.  4.  4.  4.  4.  4.  4.  4.  4.  4.  4.  4.  4.  4.\n",
      "  4.  4.  4.  4.  4.  4.  4.  4.  4.  4.  4.  4.  4.  4.  4.  4.  4.  4.\n",
      " 13. 13. 13. 13. 13. 13. 13. 13. 13. 13. 13.  0.  0.  0.  0.  0.  0.  0.\n",
      "  0.  0.  0.  0.  0.  0.  0.  0.]\n",
      "[12. 12. 12. 12. 12. 12. 12. 12. 12. 12. 12. 12. 10. 10. 10. 12. 12. 12.\n",
      " 12. 12. 12. 12. 12. 12. 12. 12. 12. 12. 12. 10. 10. 10. 10. 10. 10. 10.\n",
      " 10.]\n",
      "[9. 9. 9. 9. 9. 9. 9. 9. 9. 9. 9. 9. 9. 9. 9. 9. 9. 9. 9. 9. 9. 9. 9. 9.\n",
      " 9. 9. 9. 9. 9. 9. 9.]\n",
      "[6. 6. 6. 6. 8. 8. 8. 8. 8. 8. 8. 8. 8. 8. 8. 8. 8. 8. 8. 8. 8. 8. 8. 8.\n",
      " 8. 8. 8. 8. 8. 8. 8. 8. 8. 8. 8. 8. 8. 8. 8. 8. 8. 8. 8. 8. 8. 8.]\n",
      "[11. 11. 11. 11.  1.  1.  1.  1.  1.  1.  1.  1.  1.  1.  1.  1.  1.  1.\n",
      "  1.  1.  1.  1.  1.  1. 13. 13.  3.  3.  3.  3.  3.  3.  3.  3.  3.  3.\n",
      "  3.  3.  3.  3.  3.  3.  3.  8.  8.  8.  8.  8.  8.  9.  9.]\n",
      "[10. 10. 10. 10. 10. 10. 10. 10. 10. 10. 10. 10.  9.  9.  9.  9.  9.  9.\n",
      "  9.  9.  9.  9.  9.  9.  9.  9.  9. 11. 11. 11. 11. 11. 11. 11. 11. 11.\n",
      " 11. 11. 11. 11. 10. 10. 10. 10. 10. 10. 10. 10. 10. 10. 10. 10. 11. 11.\n",
      " 11. 11. 11. 11. 11. 11. 11. 11. 11. 11. 11. 11. 11. 11. 11. 11. 11. 11.\n",
      " 11. 11. 11. 11. 11.]\n",
      "[11. 11. 11. 11. 11. 11. 11. 11. 11. 11.  7.  7.  7.  7.  7.  7.  7.  7.\n",
      "  7.  7.  7.  7.  7.  6.  6.  6.  6.  6.  6.  6.  6.  6.  6.  6.  6.  6.\n",
      "  6.  6.  6.  6.  3.  3.  3.  3.  3.  9.  9.  9.  9.  9.  9.  9.  9.  9.\n",
      "  9.]\n",
      "[13. 13. 13. 13. 13. 13. 13. 13. 13. 13.  6.  6.  6.  6.  5.  5.  5.  5.\n",
      "  5.  5.  5.  5.  5.  5.  5.  5.  5.  5.  5.  5.  5.  5.  5.  5.  5.  5.\n",
      "  5.  5.  5.  5.  5.  5.  5.  5.  5.  5.  5.  5.  5.  5.  5.  6.  6.  6.\n",
      "  6.  6.  6.  6.  6.  6.  6.]\n",
      "[11. 11. 11. 11. 11. 11. 11. 11. 11. 11. 11. 11. 11. 11. 11. 11. 11. 11.\n",
      " 11.  6.  6.  6.  6. 11. 11. 11. 11. 11. 11. 11. 11. 11. 11. 11. 11. 11.\n",
      " 11. 11. 11. 11. 11. 11. 11. 11. 11. 11. 11. 11. 11. 11. 11. 11. 11. 11.\n",
      " 11. 11. 11. 11. 10. 10. 10. 10. 10. 10. 10. 10. 10. 10. 10. 10. 11. 11.\n",
      " 11. 11. 11. 11. 11. 11. 11.]\n",
      "[13. 13. 13. 13. 13. 13. 13. 13. 13. 13. 13. 13. 13. 13. 13. 13. 13. 13.\n",
      " 13. 13. 13. 13. 13. 13. 13. 13. 13. 13. 13.  4.  4.  4.  4.  4.  4.  4.\n",
      "  4.  4.  4.  1.  1.  1.  1.  1.  1.]\n",
      "[ 1.  1.  1.  1.  1.  1.  1.  1.  1.  1.  1.  1.  1.  1.  1.  1.  4.  4.\n",
      " 11. 11. 11. 11. 11. 11. 11. 11. 11. 11. 11. 11. 11. 11. 11. 11. 11. 11.\n",
      " 11. 11. 11. 11. 11. 11. 11. 11. 11. 11. 11. 11. 11. 11. 11. 11. 11. 11.\n",
      " 11. 11. 11. 11. 11. 11.]\n",
      "[11. 11. 11. 11. 11. 11. 11. 11. 11. 11. 11. 11. 11. 11. 11. 11. 11. 11.\n",
      " 11. 11. 11. 11. 11. 11. 11. 11. 11. 11. 11. 11.]\n",
      "[ 8.  8.  8.  8.  3.  3.  3.  3.  3.  3.  3.  3.  3.  3.  3.  3.  3.  3.\n",
      "  3.  3.  3.  3.  3.  3.  3.  3.  3.  3.  3.  3.  3.  3.  3.  3.  3.  3.\n",
      "  3.  3.  3.  3.  3.  3.  3.  3.  3.  3.  8.  8.  8.  8.  8.  8.  8.  8.\n",
      " 11. 11. 11. 11. 11. 11. 11.]\n"
     ]
    }
   ],
   "source": [
    "index=-1\n",
    "for name in movie_name :  #loop on every movie\n",
    "    index +=1\n",
    "    N = name.shape[0] # number of remaining samples\n",
    "    D = name.shape[1] # number of discrete emotions\n",
    "    \n",
    "    new_N = int(N/13)\n",
    "    em_averaged = np.zeros([new_N,D])\n",
    "    emotions = np.zeros([new_N])\n",
    "\n",
    "    for i in range(new_N): # take the mean of 13 rows and keep the emotion with the highest value \n",
    "        means = np.mean(name[i:i+13],axis=0)\n",
    "        em_averaged[i,:] = means\n",
    "        if np.amax(means) >= threshold: #test if the emotion with highest value is bigger then threshold\n",
    "            emotions[i]=np.argmax(means)\n",
    "        else: #if not, we say that there is no emotions : label 13 !\n",
    "            emotions[i]=13\n",
    "            \n",
    "    print(emotions)\n",
    "    \n",
    "    #Saving the preprocessed datas in CSV files with the corresponding movie name and threshold\n",
    "    \n",
    "    Name = Names[index]\n",
    "    output_path = \"datas/Emotions/Emotions_0.5_\"+ Name +\".csv\"\n",
    "    pd.DataFrame(emotions).to_csv(output_path,header=None, index=None)\n",
    "    \n"
   ]
  },
  {
   "cell_type": "code",
   "execution_count": null,
   "metadata": {},
   "outputs": [],
   "source": []
  }
 ],
 "metadata": {
  "kernelspec": {
   "display_name": "Python 3",
   "language": "python",
   "name": "python3"
  },
  "language_info": {
   "codemirror_mode": {
    "name": "ipython",
    "version": 3
   },
   "file_extension": ".py",
   "mimetype": "text/x-python",
   "name": "python",
   "nbconvert_exporter": "python",
   "pygments_lexer": "ipython3",
   "version": "3.8.5"
  }
 },
 "nbformat": 4,
 "nbformat_minor": 4
}
