{
 "cells": [
  {
   "cell_type": "code",
   "execution_count": 21,
   "metadata": {},
   "outputs": [],
   "source": [
    "# Following https://www.pluralsight.com/guides/linear-lasso-ridge-regression-scikit-learn\n",
    "\n",
    "# Loading required libraries and modules\n",
    "import pandas as pd\n",
    "import numpy as np\n",
    "from sklearn import model_selection\n",
    "from sklearn.linear_model import LinearRegression\n",
    "from sklearn.linear_model import RidgeCV\n",
    "from sklearn.linear_model import LassoCV\n",
    "from sklearn.linear_model import ElasticNetCV\n",
    "from sklearn.neighbors import KNeighborsRegressor\n",
    "from sklearn.tree import DecisionTreeRegressor\n",
    "from sklearn.svm import SVR\n",
    "from sklearn.ensemble import RandomForestRegressor\n",
    "from sklearn.metrics import r2_score, accuracy_score\n",
    "from sklearn.model_selection import train_test_split\n",
    "from sklearn.metrics import mean_squared_error\n",
    "from math import sqrt\n",
    "import pandas"
   ]
  },
  {
   "cell_type": "code",
   "execution_count": 22,
   "metadata": {},
   "outputs": [],
   "source": [
    "# Creating train and test data, using preprocessed and already split up data\n",
    "\n",
    "path_test_data = \"results/Split_data/Combined_All_Test_90.csv\"\n",
    "test_data = pandas.read_csv(path_test_data, header=None)\n",
    "test_set = test_data.values\n",
    "X_test = test_set[:,0:400].astype(float)\n",
    "y_test = test_set[:,400]\n",
    "\n",
    "path_train_data = \"results/Split_data/Combined_All_Train_90.csv\"\n",
    "train_data = pandas.read_csv(path_train_data, header=None)\n",
    "train_set = train_data.values\n",
    "X_train = train_set[:,0:400].astype(float)\n",
    "y_train = train_set[:,400]\n"
   ]
  },
  {
   "cell_type": "code",
   "execution_count": 23,
   "metadata": {},
   "outputs": [
    {
     "name": "stdout",
     "output_type": "stream",
     "text": [
      "RMSE train: \n",
      "2.5616581957646187\n",
      "R2 score train: \n",
      "0.3137650644002755\n",
      "RMSE test: \n",
      "3.389492810027572\n",
      "R2 score test: \n",
      "-0.2861229059499528\n"
     ]
    }
   ],
   "source": [
    "# Linear Regression\n",
    "\n",
    "# Instantiation of model and fitting to training data\n",
    "lr = LinearRegression()\n",
    "lr.fit(X_train, y_train)\n",
    "\n",
    "# Predigt, print RMSE and R-squared\n",
    "pred_train_lr= lr.predict(X_train)\n",
    "print(\"RMSE train: \")\n",
    "print(np.sqrt(mean_squared_error(y_train,pred_train_lr)))\n",
    "print(\"R2 score train: \")\n",
    "print(r2_score(y_train, pred_train_lr))\n",
    "\n",
    "\n",
    "pred_test_lr= lr.predict(X_test)\n",
    "print(\"RMSE test: \")\n",
    "print(np.sqrt(mean_squared_error(y_test,pred_test_lr))) \n",
    "print(\"R2 score test: \")\n",
    "print(r2_score(y_test, pred_test_lr))\n"
   ]
  },
  {
   "cell_type": "code",
   "execution_count": 27,
   "metadata": {},
   "outputs": [
    {
     "name": "stdout",
     "output_type": "stream",
     "text": [
      "2.565015577431044\n",
      "0.3119650878006165\n",
      "3.31832050688684\n",
      "-0.2326781588464637\n",
      "29.535353535353536\n"
     ]
    }
   ],
   "source": [
    "# Ridge regression\n",
    "rr = RidgeCV(alphas=np.linspace(29.0, 30.0,100))\n",
    "rr.fit(X_train, y_train) \n",
    "pred_train_rr= rr.predict(X_train)\n",
    "print(np.sqrt(mean_squared_error(y_train,pred_train_rr)))\n",
    "print(r2_score(y_train, pred_train_rr))\n",
    "\n",
    "pred_test_rr= rr.predict(X_test)\n",
    "print(np.sqrt(mean_squared_error(y_test,pred_test_rr))) \n",
    "print(r2_score(y_test, pred_test_rr))\n",
    "\n",
    "print(rr.alpha_)"
   ]
  },
  {
   "cell_type": "code",
   "execution_count": 30,
   "metadata": {},
   "outputs": [
    {
     "name": "stdout",
     "output_type": "stream",
     "text": [
      "3.0398086908024338\n",
      "0.03367555391985044\n",
      "2.9604873791442152\n",
      "0.018840830174251533\n",
      "0.17\n"
     ]
    }
   ],
   "source": [
    "# Lasso regression\n",
    "model_lasso = LassoCV(alphas= np.linspace(0.17,0.18, 500))\n",
    "model_lasso.fit(X_train, y_train) \n",
    "pred_train_lasso= model_lasso.predict(X_train)\n",
    "print(np.sqrt(mean_squared_error(y_train,pred_train_lasso)))\n",
    "print(r2_score(y_train, pred_train_lasso, multioutput='variance_weighted'))\n",
    "\n",
    "pred_test_lasso= model_lasso.predict(X_test)\n",
    "print(np.sqrt(mean_squared_error(y_test,pred_test_lasso))) \n",
    "print(r2_score(y_test, pred_test_lasso, multioutput='variance_weighted'))\n",
    "\n",
    "print(model_lasso.alpha_)\n",
    "\n"
   ]
  },
  {
   "cell_type": "code",
   "execution_count": 33,
   "metadata": {},
   "outputs": [
    {
     "name": "stdout",
     "output_type": "stream",
     "text": [
      "3.0426095099488957\n",
      "0.0318940293942751\n",
      "2.961169727004459\n",
      "0.018388493157912245\n",
      "0.32525252525252524\n"
     ]
    }
   ],
   "source": [
    "#Elastic Net Regression\n",
    "model_enet = ElasticNetCV(alphas=np.linspace(0.3,0.4,100), max_iter= 10000)\n",
    "model_enet.fit(X_train, y_train) \n",
    "pred_train_enet= model_enet.predict(X_train)\n",
    "print(np.sqrt(mean_squared_error(y_train,pred_train_enet)))\n",
    "print(r2_score(y_train, pred_train_enet))\n",
    "\n",
    "pred_test_enet= model_enet.predict(X_test)\n",
    "print(np.sqrt(mean_squared_error(y_test,pred_test_enet)))\n",
    "print(r2_score(y_test, pred_test_enet))\n",
    "\n",
    "print(model_enet.alpha_)"
   ]
  }
 ],
 "metadata": {
  "interpreter": {
   "hash": "8d1b0e05aaf8072557c9e1caf7c5d9e816c75ebd330c6b717cdfc1f2094defc9"
  },
  "kernelspec": {
   "display_name": "Python 3.8.5 64-bit ('base': conda)",
   "language": "python",
   "name": "python3"
  },
  "language_info": {
   "codemirror_mode": {
    "name": "ipython",
    "version": 3
   },
   "file_extension": ".py",
   "mimetype": "text/x-python",
   "name": "python",
   "nbconvert_exporter": "python",
   "pygments_lexer": "ipython3",
   "version": "3.8.5"
  },
  "orig_nbformat": 4
 },
 "nbformat": 4,
 "nbformat_minor": 2
}
