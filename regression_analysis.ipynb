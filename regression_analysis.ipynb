{
 "cells": [
  {
   "cell_type": "code",
   "execution_count": 13,
   "metadata": {},
   "outputs": [],
   "source": [
    "# Following https://www.pluralsight.com/guides/linear-lasso-ridge-regression-scikit-learn\n",
    "\n",
    "# Loading required libraries and modules\n",
    "import pandas as pd\n",
    "import numpy as np\n",
    "from sklearn import model_selection\n",
    "from sklearn.linear_model import LinearRegression\n",
    "from sklearn.linear_model import RidgeCV\n",
    "from sklearn.linear_model import LassoCV\n",
    "from sklearn.linear_model import ElasticNetCV\n",
    "from sklearn.linear_model import LogisticRegression\n",
    "from sklearn.neighbors import KNeighborsRegressor\n",
    "from sklearn.tree import DecisionTreeRegressor\n",
    "from sklearn.svm import SVR\n",
    "from sklearn.ensemble import RandomForestRegressor\n",
    "from sklearn.metrics import r2_score, accuracy_score\n",
    "from sklearn.model_selection import train_test_split\n",
    "from sklearn.metrics import mean_squared_error\n",
    "from math import sqrt\n",
    "import pandas"
   ]
  },
  {
   "cell_type": "code",
   "execution_count": 7,
   "metadata": {},
   "outputs": [],
   "source": [
    "# Creating train and test data, using preprocessed and already split up data\n",
    "\n",
    "path_test_data = \"Split_data_48_delay/Combined_All_Test_90.csv\"\n",
    "test_data = pandas.read_csv(path_test_data, header=None)\n",
    "test_set = test_data.values\n",
    "\n",
    "X_test = test_set[:,0:test_set.shape[1] -1].astype(float)\n",
    "y_test = test_set[:,test_set.shape[1] -1]\n",
    "\n",
    "path_train_data = \"Split_data_48_delay/Combined_All_Train_90.csv\"\n",
    "train_data = pandas.read_csv(path_train_data, header=None)\n",
    "train_set = train_data.values\n",
    "X_train = train_set[:,0:test_set.shape[1] -1].astype(float)\n",
    "y_train = train_set[:,test_set.shape[1] -1]\n"
   ]
  },
  {
   "cell_type": "code",
   "execution_count": 21,
   "metadata": {},
   "outputs": [
    {
     "name": "stdout",
     "output_type": "stream",
     "text": [
      "RMSE train: \n",
      "3.419756503372563\n",
      "R2 score train: \n",
      "0.13859693557061015\n",
      "RMSE test: \n",
      "3.572935024338325\n",
      "R2 score test: \n",
      "0.056195356983228306\n",
      "0.056195356983228306\n"
     ]
    },
    {
     "ename": "AttributeError",
     "evalue": "'LinearRegression' object has no attribute 'accurancy_score'",
     "output_type": "error",
     "traceback": [
      "\u001b[1;31m---------------------------------------------------------------------------\u001b[0m",
      "\u001b[1;31mAttributeError\u001b[0m                            Traceback (most recent call last)",
      "\u001b[1;32m<ipython-input-21-cfa90829d7fb>\u001b[0m in \u001b[0;36m<module>\u001b[1;34m\u001b[0m\n\u001b[0;32m     19\u001b[0m \u001b[0mprint\u001b[0m\u001b[1;33m(\u001b[0m\u001b[0mr2_score\u001b[0m\u001b[1;33m(\u001b[0m\u001b[0my_test\u001b[0m\u001b[1;33m,\u001b[0m \u001b[0mpred_test_lr\u001b[0m\u001b[1;33m)\u001b[0m\u001b[1;33m)\u001b[0m\u001b[1;33m\u001b[0m\u001b[1;33m\u001b[0m\u001b[0m\n\u001b[0;32m     20\u001b[0m \u001b[0mprint\u001b[0m\u001b[1;33m(\u001b[0m\u001b[0mlr\u001b[0m\u001b[1;33m.\u001b[0m\u001b[0mscore\u001b[0m\u001b[1;33m(\u001b[0m\u001b[0mX_test\u001b[0m\u001b[1;33m,\u001b[0m\u001b[0my_test\u001b[0m\u001b[1;33m)\u001b[0m\u001b[1;33m)\u001b[0m\u001b[1;33m\u001b[0m\u001b[1;33m\u001b[0m\u001b[0m\n\u001b[1;32m---> 21\u001b[1;33m \u001b[0mprint\u001b[0m\u001b[1;33m(\u001b[0m\u001b[0mlr\u001b[0m\u001b[1;33m.\u001b[0m\u001b[0maccurancy_score\u001b[0m\u001b[1;33m(\u001b[0m\u001b[0mX_test\u001b[0m\u001b[1;33m,\u001b[0m\u001b[0my_test\u001b[0m\u001b[1;33m)\u001b[0m\u001b[1;33m)\u001b[0m\u001b[1;33m\u001b[0m\u001b[1;33m\u001b[0m\u001b[0m\n\u001b[0m",
      "\u001b[1;31mAttributeError\u001b[0m: 'LinearRegression' object has no attribute 'accurancy_score'"
     ]
    }
   ],
   "source": [
    "# Linear Regression\n",
    "\n",
    "# Instantiation of model and fitting to training data\n",
    "lr = LinearRegression()\n",
    "lr.fit(X_train, y_train)\n",
    "\n",
    "# Predigt, print RMSE and R-squared\n",
    "pred_train_lr= lr.predict(X_train)\n",
    "print(\"RMSE train: \")\n",
    "print(np.sqrt(mean_squared_error(y_train,pred_train_lr)))\n",
    "print(\"R2 score train: \")\n",
    "print(r2_score(y_train, pred_train_lr))\n",
    "\n",
    "\n",
    "pred_test_lr= lr.predict(X_test)\n",
    "print(\"RMSE test: \")\n",
    "print(np.sqrt(mean_squared_error(y_test,pred_test_lr))) \n",
    "print(\"R2 score test: \")\n",
    "print(r2_score(y_test, pred_test_lr))\n",
    "print(lr.score(X_test,y_test))\n",
    "\n"
   ]
  },
  {
   "cell_type": "code",
   "execution_count": 23,
   "metadata": {},
   "outputs": [
    {
     "name": "stdout",
     "output_type": "stream",
     "text": [
      "3.4198756192929927\n",
      "0.13853692626540726\n",
      "3.5671130923282006\n",
      "0.05926862290687651\n",
      "17.0\n",
      "0.05926862290687651\n"
     ]
    },
    {
     "ename": "NameError",
     "evalue": "name 'accurancy_score' is not defined",
     "output_type": "error",
     "traceback": [
      "\u001b[1;31m---------------------------------------------------------------------------\u001b[0m",
      "\u001b[1;31mNameError\u001b[0m                                 Traceback (most recent call last)",
      "\u001b[1;32m<ipython-input-23-05169a0e8be6>\u001b[0m in \u001b[0;36m<module>\u001b[1;34m\u001b[0m\n\u001b[0;32m     14\u001b[0m \u001b[0mprint\u001b[0m\u001b[1;33m(\u001b[0m\u001b[0mrr\u001b[0m\u001b[1;33m.\u001b[0m\u001b[0mscore\u001b[0m\u001b[1;33m(\u001b[0m\u001b[0mX_test\u001b[0m\u001b[1;33m,\u001b[0m \u001b[0my_test\u001b[0m\u001b[1;33m)\u001b[0m\u001b[1;33m)\u001b[0m\u001b[1;33m\u001b[0m\u001b[1;33m\u001b[0m\u001b[0m\n\u001b[0;32m     15\u001b[0m \u001b[1;33m\u001b[0m\u001b[0m\n\u001b[1;32m---> 16\u001b[1;33m \u001b[0mprint\u001b[0m\u001b[1;33m(\u001b[0m\u001b[0maccurancy_score\u001b[0m\u001b[1;33m(\u001b[0m\u001b[0mpred_test_rr\u001b[0m\u001b[1;33m,\u001b[0m \u001b[0my_test\u001b[0m\u001b[1;33m)\u001b[0m\u001b[1;33m)\u001b[0m\u001b[1;33m\u001b[0m\u001b[1;33m\u001b[0m\u001b[0m\n\u001b[0m",
      "\u001b[1;31mNameError\u001b[0m: name 'accurancy_score' is not defined"
     ]
    }
   ],
   "source": [
    "# Ridge regression\n",
    "rr = RidgeCV(alphas=np.linspace(15,17, 100))\n",
    "rr.fit(X_train, y_train) \n",
    "pred_train_rr= rr.predict(X_train)\n",
    "print(np.sqrt(mean_squared_error(y_train,pred_train_rr)))\n",
    "print(r2_score(y_train, pred_train_rr))\n",
    "\n",
    "pred_test_rr= rr.predict(X_test)\n",
    "print(np.sqrt(mean_squared_error(y_test,pred_test_rr))) \n",
    "print(r2_score(y_test, pred_test_rr))\n",
    "\n",
    "print(rr.alpha_)\n",
    "\n",
    "print(rr.score(X_test, y_test))\n",
    "\n",
    "print(accurancy_score(pred_test_rr, y_test))"
   ]
  },
  {
   "cell_type": "code",
   "execution_count": 10,
   "metadata": {},
   "outputs": [
    {
     "name": "stdout",
     "output_type": "stream",
     "text": [
      "3.684613830353145\n",
      "0.0\n",
      "3.68005658929785\n",
      "-0.0012461674065464834\n",
      "1000.0\n",
      "-0.0012461674065464834\n"
     ]
    }
   ],
   "source": [
    "# Lasso regression\n",
    "model_lasso = LassoCV(alphas= np.linspace(100,1000,100))\n",
    "model_lasso.fit(X_train, y_train) \n",
    "pred_train_lasso= model_lasso.predict(X_train)\n",
    "print(np.sqrt(mean_squared_error(y_train,pred_train_lasso)))\n",
    "print(r2_score(y_train, pred_train_lasso, multioutput='variance_weighted'))\n",
    "\n",
    "pred_test_lasso= model_lasso.predict(X_test)\n",
    "print(np.sqrt(mean_squared_error(y_test,pred_test_lasso))) \n",
    "print(r2_score(y_test, pred_test_lasso, multioutput='variance_weighted'))\n",
    "\n",
    "print(model_lasso.alpha_)\n",
    "\n",
    "# Weird behavior, not changing for any lambda\n",
    "\n",
    "print(model_lasso.score(X_test, y_test))\n",
    "\n"
   ]
  },
  {
   "cell_type": "code",
   "execution_count": 18,
   "metadata": {},
   "outputs": [
    {
     "name": "stdout",
     "output_type": "stream",
     "text": [
      "4.053868158754134\n",
      "-0.21047349614646116\n",
      "4.3649196870605085\n",
      "-0.4085893069688402\n",
      "0.2885402455661664\n"
     ]
    },
    {
     "name": "stderr",
     "output_type": "stream",
     "text": [
      "C:\\Users\\laura\\anaconda3\\lib\\site-packages\\sklearn\\linear_model\\_sag.py:329: ConvergenceWarning: The max_iter was reached which means the coef_ did not converge\n",
      "  warnings.warn(\"The max_iter was reached which means \"\n"
     ]
    }
   ],
   "source": [
    "# Logistic Regression\n",
    "logreg = LogisticRegression(solver = 'saga', multi_class='auto')\n",
    "logreg.fit(X_train, y_train) \n",
    "pred_train_logreg= logreg.predict(X_train)\n",
    "print(np.sqrt(mean_squared_error(y_train,pred_train_logreg)))\n",
    "print(r2_score(y_train, pred_train_logreg, multioutput='variance_weighted'))\n",
    "\n",
    "pred_test_logreg= logreg.predict(X_test)\n",
    "print(np.sqrt(mean_squared_error(y_test,pred_test_logreg))) \n",
    "print(r2_score(y_test, pred_test_logreg, multioutput='variance_weighted'))\n",
    "\n",
    "\n",
    "# Weird behavior, not changing for any lambda\n",
    "\n",
    "print(logreg.score(X_test, y_test))\n"
   ]
  },
  {
   "cell_type": "code",
   "execution_count": 20,
   "metadata": {},
   "outputs": [
    {
     "name": "stdout",
     "output_type": "stream",
     "text": [
      "3.506705828581326\n",
      "0.09423671092231467\n",
      "3.5694905581543375\n",
      "0.05801421803071616\n",
      "0.1\n",
      "0.05801421803071616\n"
     ]
    }
   ],
   "source": [
    "#Elastic Net Regression\n",
    "model_enet = ElasticNetCV(alphas=np.linspace(0.01,0.1,100), max_iter= 10000)\n",
    "model_enet.fit(X_train, y_train) \n",
    "pred_train_enet= model_enet.predict(X_train)\n",
    "print(np.sqrt(mean_squared_error(y_train,pred_train_enet)))\n",
    "print(r2_score(y_train, pred_train_enet))\n",
    "\n",
    "pred_test_enet= model_enet.predict(X_test)\n",
    "print(np.sqrt(mean_squared_error(y_test,pred_test_enet)))\n",
    "print(r2_score(y_test, pred_test_enet))\n",
    "\n",
    "print(model_enet.alpha_)\n",
    "\n",
    "print(model_enet.score(X_test, y_test))\n",
    "# Weird behavior, not changing for any lambda"
   ]
  }
 ],
 "metadata": {
  "interpreter": {
   "hash": "8d1b0e05aaf8072557c9e1caf7c5d9e816c75ebd330c6b717cdfc1f2094defc9"
  },
  "kernelspec": {
   "display_name": "Python 3.8.5 64-bit ('base': conda)",
   "language": "python",
   "name": "python3"
  },
  "language_info": {
   "codemirror_mode": {
    "name": "ipython",
    "version": 3
   },
   "file_extension": ".py",
   "mimetype": "text/x-python",
   "name": "python",
   "nbconvert_exporter": "python",
   "pygments_lexer": "ipython3",
   "version": "3.8.5"
  },
  "orig_nbformat": 4
 },
 "nbformat": 4,
 "nbformat_minor": 2
}
