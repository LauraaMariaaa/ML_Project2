{
 "cells": [
  {
   "cell_type": "code",
   "execution_count": 32,
   "metadata": {},
   "outputs": [],
   "source": [
    "# Following https://www.pluralsight.com/guides/linear-lasso-ridge-regression-scikit-learn\n",
    "\n",
    "# Loading required libraries and modules\n",
    "import pandas as pd\n",
    "import numpy as np\n",
    "from sklearn import model_selection\n",
    "from sklearn.linear_model import LinearRegression\n",
    "from sklearn.linear_model import RidgeCV\n",
    "from sklearn.linear_model import LassoCV\n",
    "from sklearn.linear_model import ElasticNetCV\n",
    "from sklearn.neighbors import KNeighborsRegressor\n",
    "from sklearn.tree import DecisionTreeRegressor\n",
    "from sklearn.svm import SVR\n",
    "from sklearn.ensemble import RandomForestRegressor\n",
    "from sklearn.metrics import r2_score, accuracy_score\n",
    "from sklearn.model_selection import train_test_split\n",
    "from sklearn.metrics import mean_squared_error\n",
    "from math import sqrt\n",
    "import pandas"
   ]
  },
  {
   "cell_type": "code",
   "execution_count": 20,
   "metadata": {},
   "outputs": [],
   "source": [
    "# Creating train and test data, using preprocessed and already split up data\n",
    "\n",
    "path_test_data = \"results/Combined_All_Test_90.csv\"\n",
    "test_data = pandas.read_csv(path_test_data, header=None)\n",
    "test_set = test_data.values\n",
    "X_test = test_set[:,0:400].astype(float)\n",
    "y_test = test_set[:,400]\n",
    "\n",
    "path_train_data = \"results/Combined_All_Train_90.csv\"\n",
    "train_data = pandas.read_csv(path_train_data, header=None)\n",
    "train_set = train_data.values\n",
    "X_train = train_set[:,0:400].astype(float)\n",
    "y_train = train_set[:,400]\n"
   ]
  },
  {
   "cell_type": "code",
   "execution_count": 21,
   "metadata": {},
   "outputs": [
    {
     "name": "stdout",
     "output_type": "stream",
     "text": [
      "RMSE train: \n",
      "2.418761501997702\n",
      "R2 score train: \n",
      "0.3596901678357556\n",
      "RMSE test: \n",
      "4.060785282042404\n",
      "R2 score test: \n",
      "-0.7888041542501503\n"
     ]
    }
   ],
   "source": [
    "# Linear Regression\n",
    "\n",
    "# Instantiation of model and fitting to training data\n",
    "lr = LinearRegression()\n",
    "lr.fit(X_train, y_train)\n",
    "\n",
    "# Predigt, print RMSE and R-squared\n",
    "pred_train_lr= lr.predict(X_train)\n",
    "print(\"RMSE train: \")\n",
    "print(np.sqrt(mean_squared_error(y_train,pred_train_lr)))\n",
    "print(\"R2 score train: \")\n",
    "print(r2_score(y_train, pred_train_lr))\n",
    "\n",
    "\n",
    "pred_test_lr= lr.predict(X_test)\n",
    "print(\"RMSE test: \")\n",
    "print(np.sqrt(mean_squared_error(y_test,pred_test_lr))) \n",
    "print(\"R2 score test: \")\n",
    "print(r2_score(y_test, pred_test_lr))\n"
   ]
  },
  {
   "cell_type": "code",
   "execution_count": 42,
   "metadata": {},
   "outputs": [
    {
     "name": "stdout",
     "output_type": "stream",
     "text": [
      "2.4224179970945716\n",
      "0.3577527635488672\n",
      "3.9361626094684268\n",
      "-0.6806946019576354\n",
      "18.171717171717173\n"
     ]
    }
   ],
   "source": [
    "# Ridge regression\n",
    "rr = RidgeCV(alphas=np.linspace(17.0,19.0,100))\n",
    "rr.fit(X_train, y_train) \n",
    "pred_train_rr= rr.predict(X_train)\n",
    "print(np.sqrt(mean_squared_error(y_train,pred_train_rr)))\n",
    "print(r2_score(y_train, pred_train_rr))\n",
    "\n",
    "pred_test_rr= rr.predict(X_test)\n",
    "print(np.sqrt(mean_squared_error(y_test,pred_test_rr))) \n",
    "print(r2_score(y_test, pred_test_rr))\n",
    "\n",
    "print(rr.alpha_)"
   ]
  },
  {
   "cell_type": "code",
   "execution_count": 68,
   "metadata": {},
   "outputs": [
    {
     "name": "stdout",
     "output_type": "stream",
     "text": [
      "2.9468324387748392\n",
      "0.04958132930767123\n",
      "3.0768756561979305\n",
      "-0.026981531344533405\n",
      "0.13\n"
     ]
    }
   ],
   "source": [
    "# Lasso regression\n",
    "model_lasso = LassoCV(alphas= np.linspace(0.13,0.135, 500))\n",
    "model_lasso.fit(X_train, y_train) \n",
    "pred_train_lasso= model_lasso.predict(X_train)\n",
    "print(np.sqrt(mean_squared_error(y_train,pred_train_lasso)))\n",
    "print(r2_score(y_train, pred_train_lasso, multioutput='variance_weighted'))\n",
    "\n",
    "pred_test_lasso= model_lasso.predict(X_test)\n",
    "print(np.sqrt(mean_squared_error(y_test,pred_test_lasso))) \n",
    "print(r2_score(y_test, pred_test_lasso, multioutput='variance_weighted'))\n",
    "\n",
    "print(model_lasso.alpha_)\n",
    "\n"
   ]
  },
  {
   "cell_type": "code",
   "execution_count": 64,
   "metadata": {},
   "outputs": [
    {
     "name": "stdout",
     "output_type": "stream",
     "text": [
      "2.94309959695059\n",
      "0.051987652442136545\n",
      "3.078441613955759\n",
      "-0.02802714977070897\n",
      "0.23333333333333334\n"
     ]
    }
   ],
   "source": [
    "#Elastic Net Regression\n",
    "model_enet = ElasticNetCV(alphas=np.linspace(0.2, 0.3,100), max_iter= 10000)\n",
    "model_enet.fit(X_train, y_train) \n",
    "pred_train_enet= model_enet.predict(X_train)\n",
    "print(np.sqrt(mean_squared_error(y_train,pred_train_enet)))\n",
    "print(r2_score(y_train, pred_train_enet))\n",
    "\n",
    "pred_test_enet= model_enet.predict(X_test)\n",
    "print(np.sqrt(mean_squared_error(y_test,pred_test_enet)))\n",
    "print(r2_score(y_test, pred_test_enet))\n",
    "\n",
    "print(model_enet.alpha_)"
   ]
  }
 ],
 "metadata": {
  "interpreter": {
   "hash": "8d1b0e05aaf8072557c9e1caf7c5d9e816c75ebd330c6b717cdfc1f2094defc9"
  },
  "kernelspec": {
   "display_name": "Python 3.8.5 64-bit ('base': conda)",
   "language": "python",
   "name": "python3"
  },
  "language_info": {
   "codemirror_mode": {
    "name": "ipython",
    "version": 3
   },
   "file_extension": ".py",
   "mimetype": "text/x-python",
   "name": "python",
   "nbconvert_exporter": "python",
   "pygments_lexer": "ipython3",
   "version": "3.8.5"
  },
  "orig_nbformat": 4
 },
 "nbformat": 4,
 "nbformat_minor": 2
}
